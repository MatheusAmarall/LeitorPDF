{
 "cells": [
  {
   "cell_type": "code",
   "execution_count": 2,
   "id": "46af9f5f",
   "metadata": {},
   "outputs": [
    {
     "name": "stdout",
     "output_type": "stream",
     "text": [
      "Digite as stacks que você está procurando para a vaga (Uma por vez por gentileza),\n",
      "quando estiver terminado digite (Espaço e clique Enter): C#\n",
      "Digite as stacks que você está procurando para a vaga (Uma por vez por gentileza),\n",
      "quando estiver terminado digite (Espaço e clique Enter): react\n",
      "Digite as stacks que você está procurando para a vaga (Uma por vez por gentileza),\n",
      "quando estiver terminado digite (Espaço e clique Enter): vue\n",
      "Digite as stacks que você está procurando para a vaga (Uma por vez por gentileza),\n",
      "quando estiver terminado digite (Espaço e clique Enter): jquery\n",
      "Digite as stacks que você está procurando para a vaga (Uma por vez por gentileza),\n",
      "quando estiver terminado digite (Espaço e clique Enter): php\n",
      "Digite as stacks que você está procurando para a vaga (Uma por vez por gentileza),\n",
      "quando estiver terminado digite (Espaço e clique Enter):  \n"
     ]
    },
    {
     "name": "stderr",
     "output_type": "stream",
     "text": [
      "C:\\Users\\teteu\\AppData\\Local\\Temp\\ipykernel_2708\\3989971215.py:73: FutureWarning: The frame.append method is deprecated and will be removed from pandas in a future version. Use pandas.concat instead.\n",
      "  df_final = df_final.append(df)\n"
     ]
    },
    {
     "name": "stdout",
     "output_type": "stream",
     "text": [
      "Deu boa\n"
     ]
    }
   ],
   "source": [
    "import os\n",
    "import PyPDF2 as pyf\n",
    "import pandas as pd\n",
    "\n",
    "def pega_nome(texto):\n",
    "    posicao_final = texto.find(\"  \")\n",
    "    nome = texto[:posicao_final]\n",
    "    \n",
    "    return nome\n",
    "    \n",
    "def pega_contato(texto):\n",
    "    posicao = texto.find(\"Telefones:\")\n",
    "    posicao_final = texto.find(\"E-mail:\")\n",
    "    telefone = texto[posicao:posicao_final]\n",
    "    \n",
    "    return telefone\n",
    "\n",
    "def pega_email(texto):\n",
    "    posicao = texto.find(\"E-mail:\")\n",
    "    posicao_final = texto.find(\"FORMAÇÃO ACADÊMICA\", posicao)\n",
    "    email = texto[posicao:posicao_final]\n",
    "    \n",
    "    return email\n",
    "    \n",
    "def ler_pdf(pdf):\n",
    "    #Lê um arquivo em pdf\n",
    "    arquivo = pyf.PdfFileReader(pdf)\n",
    "    \n",
    "    #variavel auxiliar\n",
    "    aux_pagina = 1\n",
    "    for pagina in arquivo.pages:\n",
    "        # pegar o que está escrito na página\n",
    "        texto_pagina = pagina.extractText()\n",
    "        #tratar o texto\n",
    "        texto_pagina = texto_pagina.replace(\"\\n \\n\", \" \")\n",
    "        texto_pagina = texto_pagina.replace(\"\\n-\\n\", \"-\")\n",
    "        texto_pagina = texto_pagina.replace(\"\\n\", \" \")\n",
    "        #pega o nome do candidato\n",
    "        if aux_pagina == 1:\n",
    "            nome_candidato = pega_nome(texto_pagina)\n",
    "        #pega o número do candidato\n",
    "        if \"Telefones:\" in texto_pagina:\n",
    "            telefone = pega_contato(texto_pagina)\n",
    "        #pega o email do candidato\n",
    "        if \"E-mail:\" in texto_pagina:\n",
    "            email = pega_email(texto_pagina)\n",
    "        # verificar se dentro do texto da página tem as stacks que procuramos\n",
    "        stacks = \"\"\n",
    "        for texto in texto_procurado:\n",
    "            if texto in texto_pagina.lower():\n",
    "                stacks += \"|\" + texto + \"|\"\n",
    "        aux_pagina += 1\n",
    "        \n",
    "        if stacks == \"\":\n",
    "            stacks = \"Candidato não tem nenhuma das stacks\"\n",
    "        \n",
    "    resposta = {\n",
    "            'Nome': [nome_candidato],\n",
    "            'Telefones': [telefone],\n",
    "            'E-mail': [email],\n",
    "            'Stacks': [stacks],\n",
    "    }\n",
    "    \n",
    "    return resposta\n",
    "\n",
    "def gera_planilha():\n",
    "    lista_arquivos = os.listdir('curriculos')\n",
    "    df_final = pd.DataFrame()\n",
    "\n",
    "    for arquivo in lista_arquivos:\n",
    "        ler_pdf(f'curriculos/{arquivo}')\n",
    "        df = pd.DataFrame.from_dict(ler_pdf(f'curriculos/{arquivo}'))\n",
    "        df_final = df_final.append(df)\n",
    "\n",
    "    df_final.to_excel('relacao_candidatos.xlsx', index=False)\n",
    "    \n",
    "    return print(\"Deu boa\")\n",
    "\n",
    "texto_procurado = []\n",
    "stack = \"0\"\n",
    "\n",
    "while stack != \" \":\n",
    "    stack = input(\"Digite as stacks que você está procurando para a vaga (Uma por vez por gentileza),\\nquando estiver terminado digite (Espaço e clique Enter): \")\n",
    "    if stack != \" \":\n",
    "        texto_procurado.append(stack.lower())\n",
    "        \n",
    "gera_planilha()"
   ]
  },
  {
   "cell_type": "code",
   "execution_count": null,
   "id": "dbf9afd8",
   "metadata": {},
   "outputs": [],
   "source": []
  }
 ],
 "metadata": {
  "kernelspec": {
   "display_name": "Python 3 (ipykernel)",
   "language": "python",
   "name": "python3"
  },
  "language_info": {
   "codemirror_mode": {
    "name": "ipython",
    "version": 3
   },
   "file_extension": ".py",
   "mimetype": "text/x-python",
   "name": "python",
   "nbconvert_exporter": "python",
   "pygments_lexer": "ipython3",
   "version": "3.9.12"
  }
 },
 "nbformat": 4,
 "nbformat_minor": 5
}
